{
 "cells": [
  {
   "cell_type": "markdown",
   "metadata": {},
   "source": [
    "Codewars\n",
    "\n",
    "6 kyu - Who likes it?\n",
    "\n",
    "You probably know the \"like\" system from Facebook and other pages. People can \"like\" blog posts, pictures or other items. We want to create the text that should be displayed next to such an item.\n",
    "\n",
    "Implement the function which takes an array containing the names of people that like an item. It must return the display text as shown in the examples:\n",
    "\n",
    "[]                                -->  \"no one likes this\"\n",
    "[\"Peter\"]                         -->  \"Peter likes this\"\n",
    "[\"Jacob\", \"Alex\"]                 -->  \"Jacob and Alex like this\"\n",
    "[\"Max\", \"John\", \"Mark\"]           -->  \"Max, John and Mark like this\"\n",
    "[\"Alex\", \"Jacob\", \"Mark\", \"Max\"]  -->  \"Alex, Jacob and 2 others like this\"\n",
    "\n",
    "Note: For 4 or more names, the number in \"and 2 others\" simply increases."
   ]
  },
  {
   "cell_type": "code",
   "execution_count": 1,
   "metadata": {},
   "outputs": [],
   "source": [
    "def likes(names):\n",
    "    Names = list(names)\n",
    "    len_N = len(Names)\n",
    "    res = \"\"\n",
    "    \n",
    "    # 1. len_N을 기준으로 조건을 설정하기\n",
    "    if len_N == 0 :\n",
    "        return \"no one likes this\"\n",
    "    \n",
    "    # 2. len_N == 1일 때 \n",
    "    elif len_N == 1 : \n",
    "        for name in Names :\n",
    "            res = name + \" likes this\"\n",
    "        return res \n",
    "    \n",
    "    # 3. len_N == 2일 때 \n",
    "    elif len_N == 2 :\n",
    "        for i, name in enumerate(Names) :\n",
    "            res = Names[0] + \" and \" + Names[1] + \" like this\"\n",
    "        return res \n",
    "    \n",
    "    # 4. len_N == 3일 때 \n",
    "    elif len_N == 3 :\n",
    "        for i, name in enumerate(Names) :\n",
    "            res = Names[0] + \", \" + Names[1] + \" and \" + Names[2] + \" like this\"\n",
    "        return res \n",
    "    \n",
    "    # 5. len_N이 4 이상일 때 \n",
    "    else :\n",
    "        for i, name in enumerate(Names) :\n",
    "            res = Names[0] + \", \" + Names[1] + \" and \" +  str((len_N-2)) + \" others like this\"\n",
    "        return res "
   ]
  }
 ],
 "metadata": {
  "kernelspec": {
   "display_name": "yoonsung",
   "language": "python",
   "name": "python3"
  },
  "language_info": {
   "codemirror_mode": {
    "name": "ipython",
    "version": 3
   },
   "file_extension": ".py",
   "mimetype": "text/x-python",
   "name": "python",
   "nbconvert_exporter": "python",
   "pygments_lexer": "ipython3",
   "version": "3.8.19"
  }
 },
 "nbformat": 4,
 "nbformat_minor": 2
}

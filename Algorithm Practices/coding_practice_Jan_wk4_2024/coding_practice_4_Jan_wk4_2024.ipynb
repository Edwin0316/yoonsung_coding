{
 "cells": [
  {
   "cell_type": "markdown",
   "metadata": {},
   "source": [
    "Codewars\n",
    "\n",
    "8 kyu - Calculate average\n",
    "\n",
    "Write a function which calculates the average of the numbers in a given list.\n",
    "\n",
    "Note: Empty arrays should return 0."
   ]
  },
  {
   "cell_type": "code",
   "execution_count": 1,
   "metadata": {},
   "outputs": [],
   "source": [
    "def find_average(numbers):\n",
    "    count = 0\n",
    "    result = 0\n",
    "    for i in numbers :\n",
    "        result += i\n",
    "        count += 1\n",
    "    if count == 0 :\n",
    "        return 0\n",
    "    else:\n",
    "        return result / count"
   ]
  }
 ],
 "metadata": {
  "kernelspec": {
   "display_name": "yoonsung",
   "language": "python",
   "name": "python3"
  },
  "language_info": {
   "codemirror_mode": {
    "name": "ipython",
    "version": 3
   },
   "file_extension": ".py",
   "mimetype": "text/x-python",
   "name": "python",
   "nbconvert_exporter": "python",
   "pygments_lexer": "ipython3",
   "version": "3.8.19"
  }
 },
 "nbformat": 4,
 "nbformat_minor": 2
}

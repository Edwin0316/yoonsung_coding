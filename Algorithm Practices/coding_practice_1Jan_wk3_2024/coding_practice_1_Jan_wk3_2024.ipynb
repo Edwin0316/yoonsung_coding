{
 "cells": [
  {
   "cell_type": "markdown",
   "metadata": {},
   "source": [
    "Codewars\n",
    "\n",
    "8 kyu - Sum of positive\n",
    "\n",
    "You get an array of numbers, return the sum of all of the positives ones.\n",
    "\n",
    "Example [1,-4,7,12] => 1 + 7 + 12 = 20\n",
    "\n",
    "Note: if there is nothing to sum, the sum is default to 0."
   ]
  },
  {
   "cell_type": "code",
   "execution_count": 1,
   "metadata": {},
   "outputs": [],
   "source": [
    "def positive_sum(num) :   \n",
    "    res = 0\n",
    "    for i in num :\n",
    "        if i >= 0 : \n",
    "            res += i\n",
    "        else:\n",
    "            res\n",
    "    return res"
   ]
  }
 ],
 "metadata": {
  "kernelspec": {
   "display_name": "yoonsung",
   "language": "python",
   "name": "python3"
  },
  "language_info": {
   "codemirror_mode": {
    "name": "ipython",
    "version": 3
   },
   "file_extension": ".py",
   "mimetype": "text/x-python",
   "name": "python",
   "nbconvert_exporter": "python",
   "pygments_lexer": "ipython3",
   "version": "3.8.19"
  }
 },
 "nbformat": 4,
 "nbformat_minor": 2
}

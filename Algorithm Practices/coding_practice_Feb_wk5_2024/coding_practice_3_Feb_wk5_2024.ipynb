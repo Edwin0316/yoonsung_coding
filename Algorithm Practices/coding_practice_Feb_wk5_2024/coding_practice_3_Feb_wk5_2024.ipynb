{
 "cells": [
  {
   "cell_type": "markdown",
   "metadata": {},
   "source": [
    "Codewars\n",
    "\n",
    "6 kyu - Find The Parity Outlier\n",
    "\n",
    "You are given an array (which will have a length of at least 3, but could be very large) containing integers. The array is either entirely comprised of odd integers or entirely comprised of even integers except for a single integer N. Write a method that takes the array as an argument and returns this \"outlier\" N.\n",
    "\n",
    "Examples\n",
    "[2, 4, 0, 100, 4, 11, 2602, 36] -->  11 (the only odd number)\n",
    "\n",
    "[160, 3, 1719, 19, 11, 13, -21] --> 160 (the only even number)"
   ]
  },
  {
   "cell_type": "code",
   "execution_count": 1,
   "metadata": {},
   "outputs": [],
   "source": [
    "def find_outlier(integers):\n",
    "    \n",
    "    # 1. 홀수 리스트 내 짝수 판별 함수 정의\n",
    "    def even_in_odd(num_list):\n",
    "        for value in num_list :\n",
    "            if value % 2 == 0 :\n",
    "                return value\n",
    "        \n",
    "    # 2. 짝수 리스트 내 홀수 판별 함수 정의\n",
    "    def odd_in_even(num_list):\n",
    "        for value in num_list :\n",
    "            if value % 2 == 1 :\n",
    "                return value\n",
    "    \n",
    "    # 3. input 리스트에서 특정 요소를 뽑아 새로운 리스트를 만들기\n",
    "    odd_or_even = integers[:3] \n",
    "    odd_count = 0\n",
    "    even_count = 0\n",
    "    \n",
    "    # 4. 새로운 리스트에서 홀수가 더 많은지 짝수가 더 많은지 판별하기\n",
    "    for value in odd_or_even :\n",
    "        if value%2 == 1 :\n",
    "            odd_count += 1\n",
    "        if value%2 == 0 :\n",
    "            even_count += 1\n",
    "    \n",
    "    # 5. 홀수가 더 많다면 홀수 리스트 내 짝수 판별 함수 input 리스트 넣고 return\n",
    "    if odd_count > even_count :\n",
    "        return even_in_odd(integers)\n",
    "    \n",
    "    # 6. 짝수가 더 많다면 짝수 리스트 내 홀수 판별 함수 input 리스트 넣고 return\n",
    "    if even_count > odd_count :\n",
    "        return odd_in_even(integers)\n",
    "    "
   ]
  },
  {
   "cell_type": "code",
   "execution_count": null,
   "metadata": {},
   "outputs": [],
   "source": [
    "def find_outlier(integers):\n",
    "    even_list = [ x for x in integers if x%2 == 0 ]\n",
    "    odd_list = [ x for x in integers if x%2 ==1 ]\n",
    "    if len(even_list) > len(odd_list) :\n",
    "        return odd_list[0]\n",
    "    else :\n",
    "        return even_list[0]"
   ]
  }
 ],
 "metadata": {
  "kernelspec": {
   "display_name": "yoonsung",
   "language": "python",
   "name": "python3"
  },
  "language_info": {
   "codemirror_mode": {
    "name": "ipython",
    "version": 3
   },
   "file_extension": ".py",
   "mimetype": "text/x-python",
   "name": "python",
   "nbconvert_exporter": "python",
   "pygments_lexer": "ipython3",
   "version": "3.8.19"
  }
 },
 "nbformat": 4,
 "nbformat_minor": 2
}

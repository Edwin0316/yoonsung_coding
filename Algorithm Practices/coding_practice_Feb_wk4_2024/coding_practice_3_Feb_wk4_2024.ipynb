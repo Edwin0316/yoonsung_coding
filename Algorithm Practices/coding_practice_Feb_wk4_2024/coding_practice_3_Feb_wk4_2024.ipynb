{
 "cells": [
  {
   "cell_type": "markdown",
   "metadata": {},
   "source": [
    "Codewars\n",
    "\n",
    "6 kyu - Create Phone Number\n",
    "\n",
    "Write a function that accepts an array of 10 integers (between 0 and 9), that returns a string of those numbers in the form of a phone number.\n",
    "\n",
    "Example\n",
    "create_phone_number([1, 2, 3, 4, 5, 6, 7, 8, 9, 0]) # => returns \"(123) 456-7890\"\n",
    "The returned format must be correct in order to complete this challenge.\n",
    "\n",
    "Don't forget the space after the closing parentheses!"
   ]
  },
  {
   "cell_type": "code",
   "execution_count": 1,
   "metadata": {},
   "outputs": [],
   "source": [
    "def create_phone_number(n):\n",
    "    \n",
    "    # 1. return 값들이 str이므로 int 값인 n의 원소들을 모두 str로 바꾸자\n",
    "    num_list = [ str(x) for x in n ] \n",
    "    \n",
    "    # 1. num_list의 원소들을 양식에 맞춰 join한 값을 한 번에 return 하자\n",
    "    return \"(\" + num_list[0] + num_list[1] + num_list[2] + \") \" + num_list[3] + num_list[4] + num_list[5] + \"-\" + num_list[6] + num_list[7] + num_list[8] + num_list[9]"
   ]
  }
 ],
 "metadata": {
  "kernelspec": {
   "display_name": "yoonsung",
   "language": "python",
   "name": "python3"
  },
  "language_info": {
   "codemirror_mode": {
    "name": "ipython",
    "version": 3
   },
   "file_extension": ".py",
   "mimetype": "text/x-python",
   "name": "python",
   "nbconvert_exporter": "python",
   "pygments_lexer": "ipython3",
   "version": "3.8.19"
  }
 },
 "nbformat": 4,
 "nbformat_minor": 2
}

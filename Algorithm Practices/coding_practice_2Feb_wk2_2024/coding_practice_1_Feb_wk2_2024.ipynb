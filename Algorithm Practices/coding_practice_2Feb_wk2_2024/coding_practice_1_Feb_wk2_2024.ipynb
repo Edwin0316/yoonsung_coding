{
 "cells": [
  {
   "cell_type": "markdown",
   "metadata": {},
   "source": [
    "Codewars\n",
    "\n",
    "7 kyu - Sum of odd numbers\n",
    "\n",
    "Given the triangle of consecutive odd numbers:\n",
    "\n",
    "             1\n",
    "          3     5\n",
    "       7     9    11\n",
    "   13    15    17    19\n",
    "21    23    25    27    29\n",
    "\n",
    "...\n",
    "Calculate the sum of the numbers in the nth row of this triangle (starting at index 1) e.g.: (Input --> Output)\n",
    "\n",
    "1 -->  1\n",
    "2 --> 3 + 5 = 8"
   ]
  },
  {
   "cell_type": "code",
   "execution_count": 1,
   "metadata": {},
   "outputs": [],
   "source": [
    "def row_sum_odd_numbers(n):\n",
    "    result = 0\n",
    "    if n == 1 :\n",
    "        return 1\n",
    "    elif n > 1 :\n",
    "        front = 1 + sum(i * 2 for i in range(1, n))\n",
    "        row = list(range(front, front+(2*n-2)+1, 2))\n",
    "        for num in row :\n",
    "            result = result + num\n",
    "        return result"
   ]
  }
 ],
 "metadata": {
  "kernelspec": {
   "display_name": "yoonsung",
   "language": "python",
   "name": "python3"
  },
  "language_info": {
   "codemirror_mode": {
    "name": "ipython",
    "version": 3
   },
   "file_extension": ".py",
   "mimetype": "text/x-python",
   "name": "python",
   "nbconvert_exporter": "python",
   "pygments_lexer": "ipython3",
   "version": "3.8.19"
  }
 },
 "nbformat": 4,
 "nbformat_minor": 2
}

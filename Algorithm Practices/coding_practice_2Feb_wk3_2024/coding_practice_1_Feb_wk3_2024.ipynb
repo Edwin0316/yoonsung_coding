{
 "cells": [
  {
   "cell_type": "markdown",
   "metadata": {},
   "source": [
    "Codewars\n",
    "\n",
    "7 kyu - Ones and Zeros\n",
    "\n",
    "Given an array of ones and zeroes, convert the equivalent binary value to an integer.\n",
    "\n",
    "Eg: [0, 0, 0, 1] is treated as 0001 which is the binary representation of 1.\n",
    "\n",
    "Examples:\n",
    "\n",
    "Testing: [0, 0, 0, 1] ==> 1\n",
    "Testing: [0, 0, 1, 0] ==> 2\n",
    "Testing: [0, 1, 0, 1] ==> 5\n",
    "Testing: [1, 0, 0, 1] ==> 9\n",
    "Testing: [0, 0, 1, 0] ==> 2\n",
    "Testing: [0, 1, 1, 0] ==> 6\n",
    "Testing: [1, 1, 1, 1] ==> 15\n",
    "Testing: [1, 0, 1, 1] ==> 11\n",
    "\n",
    "However, the arrays can have varying lengths, not just limited to 4."
   ]
  },
  {
   "cell_type": "code",
   "execution_count": 1,
   "metadata": {},
   "outputs": [],
   "source": [
    "def binary_array_to_number(arr):\n",
    "    arr.reverse()\n",
    "    result = [arr[i] * (2 ** i) for i in range(len(arr))]\n",
    "    return sum(result)"
   ]
  }
 ],
 "metadata": {
  "kernelspec": {
   "display_name": "yoonsung",
   "language": "python",
   "name": "python3"
  },
  "language_info": {
   "codemirror_mode": {
    "name": "ipython",
    "version": 3
   },
   "file_extension": ".py",
   "mimetype": "text/x-python",
   "name": "python",
   "nbconvert_exporter": "python",
   "pygments_lexer": "ipython3",
   "version": "3.8.19"
  }
 },
 "nbformat": 4,
 "nbformat_minor": 2
}

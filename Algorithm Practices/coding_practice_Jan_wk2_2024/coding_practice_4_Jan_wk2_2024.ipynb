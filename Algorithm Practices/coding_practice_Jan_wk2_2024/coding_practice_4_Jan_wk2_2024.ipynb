{
 "cells": [
  {
   "cell_type": "markdown",
   "metadata": {},
   "source": [
    "Codewars\n",
    "\n",
    "8 kyu - Convert boolean values to strings 'Yes' or 'No'.\n",
    "\n",
    "Complete the method that takes a boolean value and return a \"Yes\" string for true, or a \"No\" string for false."
   ]
  },
  {
   "cell_type": "code",
   "execution_count": 1,
   "metadata": {},
   "outputs": [],
   "source": [
    "def bool_to_word(boolean):\n",
    "    result = \"\"\n",
    "    if boolean is True :\n",
    "        result = \"Yes\"\n",
    "    elif boolean is False :\n",
    "        result = \"No\"\n",
    "    return result"
   ]
  }
 ],
 "metadata": {
  "kernelspec": {
   "display_name": "yoonsung",
   "language": "python",
   "name": "python3"
  },
  "language_info": {
   "codemirror_mode": {
    "name": "ipython",
    "version": 3
   },
   "file_extension": ".py",
   "mimetype": "text/x-python",
   "name": "python",
   "nbconvert_exporter": "python",
   "pygments_lexer": "ipython3",
   "version": "3.8.19"
  }
 },
 "nbformat": 4,
 "nbformat_minor": 2
}

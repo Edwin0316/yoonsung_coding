{
 "cells": [
  {
   "cell_type": "markdown",
   "metadata": {},
   "source": [
    "Codewars\n",
    "\n",
    "7 kyu - Product Of Maximums Of Array (Array Series #2)\n",
    "\n",
    "Introduction and Warm-up (Highly recommended)\n",
    "Playing With Lists/Arrays Series\n",
    "Task\n",
    "Given an array/list [] of integers , Find the product of the k maximal numbers.\n",
    "\n",
    "Notes\n",
    "Array/list size is at least 3 .\n",
    "\n",
    "Array/list's numbers Will be mixture of positives , negatives and zeros\n",
    "\n",
    "Repetition of numbers in the array/list could occur.\n",
    "\n",
    "Input >> Output Examples\n",
    "\n",
    "maxProduct ({4, 3, 5}, 2) ==>  return (20)\n",
    "Explanation:\n",
    "Since the size (k) equal 2 , then the subsequence of size 2 whose gives \n",
    "product of maxima is 5 * 4 = 20 .\n",
    "\n",
    "maxProduct ({8, 10 , 9, 7}, 3) ==>  return (720)\n",
    "Explanation:\n",
    "Since the size (k) equal 3 , then the subsequence of size 3 whose gives product of maxima is  8 * 9 * 10 = 720 .\n",
    "\n",
    "maxProduct ({10, 8, 3, 2, 1, 4, 10}, 5) ==> return (9600)\n",
    "Explanation:\n",
    "Since the size (k) equal 5 , then the subsequence of size 5 whose gives product of maxima is  10 * 10 * 8 * 4 * 3 = 9600 .\n",
    "\n",
    "maxProduct ({-4, -27, -15, -6, -1}, 2) ==> return (4)\n",
    "Explanation:\n",
    "Since the size (k) equal 2 , then the subsequence of size 2 whose gives product of maxima is  -4 * -1 = 4 .\n",
    "\n",
    "maxProduct ({10, 3, -1, -27} , 3)  return (-30)\n",
    "Explanation:\n",
    "Since the size (k) equal 3 , then the subsequence of size 3 whose gives product of maxima is 10 * 3 * -1 = -30 ."
   ]
  },
  {
   "cell_type": "code",
   "execution_count": 1,
   "metadata": {},
   "outputs": [],
   "source": [
    "def max_product(lst, n_largest_elements):\n",
    "    lst.sort(reverse=True, key=int)\n",
    "    res = 1\n",
    "    for i in range(0,n_largest_elements):\n",
    "        res *= lst[i]\n",
    "    return res"
   ]
  }
 ],
 "metadata": {
  "kernelspec": {
   "display_name": "yoonsung",
   "language": "python",
   "name": "python3"
  },
  "language_info": {
   "codemirror_mode": {
    "name": "ipython",
    "version": 3
   },
   "file_extension": ".py",
   "mimetype": "text/x-python",
   "name": "python",
   "nbconvert_exporter": "python",
   "pygments_lexer": "ipython3",
   "version": "3.8.19"
  }
 },
 "nbformat": 4,
 "nbformat_minor": 2
}

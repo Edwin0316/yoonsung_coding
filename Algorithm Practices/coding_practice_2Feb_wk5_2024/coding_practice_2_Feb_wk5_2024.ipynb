{
 "cells": [
  {
   "cell_type": "markdown",
   "metadata": {},
   "source": [
    "Codewars\n",
    "\n",
    "7 kyu - AD2070: Help Lorimar troubleshoot his robots- ultrasonic distance analysis\n",
    "\n",
    "The year is 2070 and intelligent connected machines have replaced humans in most things. There are still a few critical jobs for mankind including machine software developer, for writing and maintaining the AI software, and machine forward deployed engineer for controlling the intelligent machines in the field. Lorimar is a forward deployed machine engineer and at any given time he controls thousands of BOT robots through real time interfaces and intelligent automation software. These interfaces are directly connected to his own brain so at all times his mind and the robots are one. They are pre-trained to think on their own but on occasion the human will direct the robot to perform a task.\n",
    "\n",
    "There is an issue with the ultrasonic sensor data feed from BOT785 currently connected to Lorimar through a real time interface. The data feed from sensor five should be a series of floats representing the relative distance of objects within BOT785's path. The sensor error log has been saved for triage and Lorimar needs to search through the data to determine the mean and standard deviation of the distance variables.\n",
    "\n",
    "You will be given a list of tuples extracted from the sensor logs:\n",
    "\n",
    "sensor_data = [('Distance:', 116.28, 'Meters', 'Sensor 5 malfunction =>lorimar'), ('Distance:', 117.1, 'Meters', 'Sensor 5 malfunction =>lorimar'), ('Distance:', 123.96, 'Meters', 'Sensor 5 malfunction =>lorimar'), ('Distance:', 117.17, 'Meters', 'Sensor 5 malfunction =>lorimar')]\n",
    "Return a tuple with the mean and standard deviation of the distance variables rounded to four decimal places. The variance should be computed using the formula for samples (dividing by N-1).\n",
    "\n",
    "|Mean| |Standard Deviation|\n",
    "\n",
    "(118.6275, 3.5779)\n",
    "Hint (http://math.stackexchange.com/questions/15098/sample-standard-deviation-vs-population-standard-deviation)\n",
    "\n",
    "Please also try the other Kata in this series..\n",
    "\n",
    "AD2070:Help Lorimar troubleshoot his robots-Search and Disable\n"
   ]
  },
  {
   "cell_type": "code",
   "execution_count": 1,
   "metadata": {},
   "outputs": [],
   "source": [
    "import numpy as np\n",
    "\n",
    "def sensor_analysis(sensor_data):\n",
    "    distance = []\n",
    "    for data in sensor_data :\n",
    "        distance.append(data[1])\n",
    "    mean = round(np.mean(distance),4)\n",
    "    std = round(np.std(distance,ddof=1),4)\n",
    "    return (mean,std)"
   ]
  }
 ],
 "metadata": {
  "kernelspec": {
   "display_name": "yoonsung",
   "language": "python",
   "name": "python3"
  },
  "language_info": {
   "codemirror_mode": {
    "name": "ipython",
    "version": 3
   },
   "file_extension": ".py",
   "mimetype": "text/x-python",
   "name": "python",
   "nbconvert_exporter": "python",
   "pygments_lexer": "ipython3",
   "version": "3.8.19"
  }
 },
 "nbformat": 4,
 "nbformat_minor": 2
}

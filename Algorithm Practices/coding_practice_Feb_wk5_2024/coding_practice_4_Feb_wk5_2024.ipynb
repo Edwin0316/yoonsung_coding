{
 "cells": [
  {
   "cell_type": "markdown",
   "metadata": {},
   "source": [
    "Codewars\n",
    "\n",
    "6 kyu - Multiples of 3 or 5\n",
    "\n",
    "If we list all the natural numbers below 10 that are multiples of 3 or 5, we get 3, 5, 6 and 9. The sum of these multiples is 23.\n",
    "\n",
    "Finish the solution so that it returns the sum of all the multiples of 3 or 5 below the number passed in.\n",
    "\n",
    "Additionally, if the number is negative, return 0.\n",
    "\n",
    "Note: If the number is a multiple of both 3 and 5, only count it once.\n",
    "\n",
    "Courtesy of projecteuler.net (Problem 1)"
   ]
  },
  {
   "cell_type": "code",
   "execution_count": 1,
   "metadata": {},
   "outputs": [],
   "source": [
    "def solution(number):\n",
    "    if number > 0 :\n",
    "        num3_list = [ 3*x for x in range(number) if 3*x < number ]\n",
    "        num5_list = [ 5*x for x in range(number) if 5*x < number ]\n",
    "        final_set = set(num3_list + num5_list)\n",
    "        return(sum(final_set))\n",
    "    else :\n",
    "        return 0"
   ]
  },
  {
   "cell_type": "code",
   "execution_count": null,
   "metadata": {},
   "outputs": [],
   "source": [
    "def solution(number):\n",
    "    if number > 0 :\n",
    "        num3_list = [ 3*x for x in range(1000) if 3*x < number ]\n",
    "        num5_list = [ 5*x for x in range(1000) if 5*x < number ]\n",
    "        final_set = set(num3_list + num5_list)\n",
    "        return(sum(final_set))\n",
    "    else :\n",
    "        return 0"
   ]
  }
 ],
 "metadata": {
  "kernelspec": {
   "display_name": "yoonsung",
   "language": "python",
   "name": "python3"
  },
  "language_info": {
   "codemirror_mode": {
    "name": "ipython",
    "version": 3
   },
   "file_extension": ".py",
   "mimetype": "text/x-python",
   "name": "python",
   "nbconvert_exporter": "python",
   "pygments_lexer": "ipython3",
   "version": "3.8.19"
  }
 },
 "nbformat": 4,
 "nbformat_minor": 2
}

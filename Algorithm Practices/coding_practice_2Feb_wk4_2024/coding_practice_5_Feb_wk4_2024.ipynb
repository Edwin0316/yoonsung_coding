{
 "cells": [
  {
   "cell_type": "markdown",
   "metadata": {},
   "source": [
    "Codewars\n",
    "\n",
    "5 kyu - First non-repeating character\n",
    "\n",
    "Write a function named first_non_repeating_letter† that takes a string input, and returns the first character that is not repeated anywhere in the string.\n",
    "\n",
    "For example, if given the input 'stress', the function should return 't', since the letter t only occurs once in the string, and occurs first in the string.\n",
    "\n",
    "As an added challenge, upper- and lowercase letters are considered the same character, but the function should return the correct case for the initial letter. For example, the input 'sTreSS' should return 'T'.\n",
    "\n",
    "If a string contains all repeating characters, it should return an empty string (\"\");\n",
    "\n",
    "† Note: the function is called firstNonRepeatingLetter for historical reasons, but your function should handle any Unicode character."
   ]
  },
  {
   "cell_type": "code",
   "execution_count": 1,
   "metadata": {},
   "outputs": [],
   "source": [
    "def first_non_repeating_letter(s):\n",
    "  # 1. s 안의 문자들을 소문자로 바꿔 대소문자로 인해 다르게 카운트하는 경우에 대비한다. \n",
    "    for letter in s :\n",
    "        \n",
    "    # 2. letter을 카운트해서 1보다 큰 letter은 거른다. \n",
    "        if s.lower().count(letter.lower()) > 1 :\n",
    "            continue\n",
    "            \n",
    "    # 3. count == 1 인 경우 해당 letter을 return 한다. \n",
    "        elif s.lower().count(letter.lower()) == 1 :\n",
    "            return letter\n",
    "    # 4. 'aa'나 ''처럼 return 할 값이 없는 경우 ''를 return한다. \n",
    "    return ''"
   ]
  }
 ],
 "metadata": {
  "kernelspec": {
   "display_name": "yoonsung",
   "language": "python",
   "name": "python3"
  },
  "language_info": {
   "codemirror_mode": {
    "name": "ipython",
    "version": 3
   },
   "file_extension": ".py",
   "mimetype": "text/x-python",
   "name": "python",
   "nbconvert_exporter": "python",
   "pygments_lexer": "ipython3",
   "version": "3.8.19"
  }
 },
 "nbformat": 4,
 "nbformat_minor": 2
}

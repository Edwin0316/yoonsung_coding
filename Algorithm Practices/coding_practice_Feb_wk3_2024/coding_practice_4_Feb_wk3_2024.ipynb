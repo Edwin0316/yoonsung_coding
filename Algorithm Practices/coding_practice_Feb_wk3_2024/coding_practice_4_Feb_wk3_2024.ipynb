{
 "cells": [
  {
   "cell_type": "markdown",
   "metadata": {},
   "source": [
    "Codewars\n",
    "\n",
    "7 kyu - Mumbling\n",
    "\n",
    "This time no story, no theory. The examples below show you how to write function accum:\n",
    "\n",
    "Examples:\n",
    "accum(\"abcd\") -> \"A-Bb-Ccc-Dddd\"\n",
    "accum(\"RqaEzty\") -> \"R-Qq-Aaa-Eeee-Zzzzz-Tttttt-Yyyyyyy\"\n",
    "accum(\"cwAt\") -> \"C-Ww-Aaa-Tttt\"\n",
    "\n",
    "The parameter of accum is a string which includes only letters from a..z and A..Z."
   ]
  },
  {
   "cell_type": "code",
   "execution_count": 1,
   "metadata": {},
   "outputs": [],
   "source": [
    "def accum(sentence):\n",
    "    # 1. Empty string 정의하기 \n",
    "    result = \"\"\n",
    "\n",
    "    # 2. 첫 문자는 대문자, 나머지 문자는 소문자 * 인덱스 형태로 result에 추가하기 \n",
    "    for index, letter in enumerate(sentence) :\n",
    "        result += letter.upper() + ( letter.lower() * (index) ) + \"-\"\n",
    "        \n",
    "    # 3. 맨 끝의 \"-\" 제거하기\n",
    "    result = result[:-1]\n",
    "    \n",
    "    # 4. 결과 도출하기\n",
    "    return(result)"
   ]
  },
  {
   "cell_type": "code",
   "execution_count": null,
   "metadata": {},
   "outputs": [],
   "source": [
    "def accum(sentence):\n",
    "    sublist = [x for x in list(sentence)]\n",
    "    upper_list = []\n",
    "    lower_list = []\n",
    "    combined_list = []\n",
    "\n",
    "  #2. Sublist에서 count만큼 *를 하면서 lower/upper list 만들기\n",
    "    for count, item in enumerate(sublist):\n",
    "\n",
    "    #3. 첫문자는 Uppercase, 뒤에는 Lowercase\n",
    "        upper_list.extend([item.upper()])\n",
    "        lower_list.extend([item.lower() * (count)])\n",
    "  # print(f\"Upper list is: {upper_list}\")\n",
    "  # print(f\"Lower list is: {lower_list}\")\n",
    "\n",
    "  #4. Sublist의 result version을 만들고... concatenate 함\n",
    "    for upper_item, lower_item in zip(upper_list, lower_list):\n",
    "        combined_list.append(upper_item + lower_item)\n",
    "  # print(f\"Combined list is: {combined_list}\")\n",
    "\n",
    "  #5. 각 sublist를 '-'활용해서 join.. -> string\n",
    "    result_string = '-'.join(combined_list)\n",
    "  # print(f\"Result is: {result_string}\")\n",
    "    return result_string"
   ]
  }
 ],
 "metadata": {
  "kernelspec": {
   "display_name": "yoonsung",
   "language": "python",
   "name": "python3"
  },
  "language_info": {
   "codemirror_mode": {
    "name": "ipython",
    "version": 3
   },
   "file_extension": ".py",
   "mimetype": "text/x-python",
   "name": "python",
   "nbconvert_exporter": "python",
   "pygments_lexer": "ipython3",
   "version": "3.8.19"
  }
 },
 "nbformat": 4,
 "nbformat_minor": 2
}

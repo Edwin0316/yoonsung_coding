{
 "cells": [
  {
   "cell_type": "markdown",
   "metadata": {},
   "source": [
    "Codewars\n",
    "\n",
    "7 kyu - Is this a triangle?\n",
    "\n",
    "Implement a function that accepts 3 integer values a, b, c. The function should return true if a triangle can be built with the sides of given length and false in any other case.\n",
    "\n",
    "(In this case, all triangles must have surface greater than 0 to be accepted).\n",
    "\n",
    "Examples:\n",
    "\n",
    "Input -> Output\n",
    "1,2,2 -> true\n",
    "4,2,3 -> true\n",
    "2,2,2 -> true\n",
    "1,2,3 -> false\n",
    "-5,1,3 -> false\n",
    "0,2,3 -> false\n",
    "1,2,9 -> false "
   ]
  },
  {
   "cell_type": "code",
   "execution_count": 1,
   "metadata": {},
   "outputs": [],
   "source": [
    "def is_triangle(a, b, c):\n",
    "    cast = [a,b,c]\n",
    "    cast = sorted(cast)\n",
    "    if cast[0] + cast[1] > cast[2] :\n",
    "        return True\n",
    "    else :\n",
    "        return False"
   ]
  }
 ],
 "metadata": {
  "kernelspec": {
   "display_name": "yoonsung",
   "language": "python",
   "name": "python3"
  },
  "language_info": {
   "codemirror_mode": {
    "name": "ipython",
    "version": 3
   },
   "file_extension": ".py",
   "mimetype": "text/x-python",
   "name": "python",
   "nbconvert_exporter": "python",
   "pygments_lexer": "ipython3",
   "version": "3.8.19"
  }
 },
 "nbformat": 4,
 "nbformat_minor": 2
}

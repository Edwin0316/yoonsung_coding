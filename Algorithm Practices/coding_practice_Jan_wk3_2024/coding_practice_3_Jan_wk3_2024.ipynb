{
 "cells": [
  {
   "cell_type": "markdown",
   "metadata": {},
   "source": [
    "Codewars\n",
    "\n",
    "8 kyu - Opposite number\n",
    "\n",
    "Very simple, given a number (integer / decimal / both depending on the language), find its opposite (additive inverse).\n",
    "\n",
    "Examples:\n",
    "\n",
    "1: -1\n",
    "14: -14\n",
    "-34: 34"
   ]
  },
  {
   "cell_type": "code",
   "execution_count": 1,
   "metadata": {},
   "outputs": [],
   "source": [
    "def opposite(number):\n",
    "    result = -1 * number\n",
    "    return result"
   ]
  }
 ],
 "metadata": {
  "kernelspec": {
   "display_name": "yoonsung",
   "language": "python",
   "name": "python3"
  },
  "language_info": {
   "codemirror_mode": {
    "name": "ipython",
    "version": 3
   },
   "file_extension": ".py",
   "mimetype": "text/x-python",
   "name": "python",
   "nbconvert_exporter": "python",
   "pygments_lexer": "ipython3",
   "version": "3.8.19"
  }
 },
 "nbformat": 4,
 "nbformat_minor": 2
}

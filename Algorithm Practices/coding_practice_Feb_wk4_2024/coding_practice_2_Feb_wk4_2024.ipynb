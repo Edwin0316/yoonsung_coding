{
 "cells": [
  {
   "cell_type": "markdown",
   "metadata": {},
   "source": [
    "Codewars\n",
    "\n",
    "6 kyu - Sum of Digits / Digital Root\n",
    "\n",
    "Digital root is the recursive sum of all the digits in a number.\n",
    "\n",
    "Given n, take the sum of the digits of n. If that value has more than one digit, continue reducing in this way until a single-digit number is produced. The input will be a non-negative integer.\n",
    "\n",
    "Examples\n",
    "    16  -->  1 + 6 = 7\n",
    "   942  -->  9 + 4 + 2 = 15  -->  1 + 5 = 6\n",
    "132189  -->  1 + 3 + 2 + 1 + 8 + 9 = 24  -->  2 + 4 = 6\n",
    "493193  -->  4 + 9 + 3 + 1 + 9 + 3 = 29  -->  2 + 9 = 11  -->  1 + 1 = 2"
   ]
  },
  {
   "cell_type": "code",
   "execution_count": 1,
   "metadata": {},
   "outputs": [],
   "source": [
    "def digital_root(n):\n",
    "    # 1. n을 int 리스트로 만들기 -> sum을 이용하기 위해서\n",
    "    num = [int(x) for x in list(str(n))]\n",
    "    \n",
    "    # 2. sum을 구하자\n",
    "    sum_num = sum(num)\n",
    "    \n",
    "    # 3. 만약 sum_num이 2자릿수 이상인 경우 이 값을 그대로 함수에 넣어 반복하자 \n",
    "    if len(str(sum_num)) > 1 :\n",
    "        return digital_root(sum_num)\n",
    "    \n",
    "    # 4. sum_num이 1자릿수가 되면 결과값을 도출하자\n",
    "    else :\n",
    "        return sum_num"
   ]
  }
 ],
 "metadata": {
  "kernelspec": {
   "display_name": "yoonsung",
   "language": "python",
   "name": "python3"
  },
  "language_info": {
   "codemirror_mode": {
    "name": "ipython",
    "version": 3
   },
   "file_extension": ".py",
   "mimetype": "text/x-python",
   "name": "python",
   "nbconvert_exporter": "python",
   "pygments_lexer": "ipython3",
   "version": "3.8.19"
  }
 },
 "nbformat": 4,
 "nbformat_minor": 2
}

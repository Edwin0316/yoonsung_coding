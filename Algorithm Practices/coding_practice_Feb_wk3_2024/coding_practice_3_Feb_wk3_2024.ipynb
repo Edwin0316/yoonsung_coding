{
 "cells": [
  {
   "cell_type": "markdown",
   "metadata": {},
   "source": [
    "Codewars\n",
    "\n",
    "6 kyu - Stop gninnipS My sdroW!\n",
    "\n",
    "Write a function that takes in a string of one or more words, and returns the same string, but with all words that have five or more letters reversed (Just like the name of this Kata). Strings passed in will consist of only letters and spaces. Spaces will be included only when more than one word is present.\n",
    "\n",
    "Examples:\n",
    "\n",
    "\"Hey fellow warriors\"  --> \"Hey wollef sroirraw\" \n",
    "\"This is a test        --> \"This is a test\" \n",
    "\"This is another test\" --> \"This is rehto"
   ]
  },
  {
   "cell_type": "code",
   "execution_count": 1,
   "metadata": {},
   "outputs": [],
   "source": [
    "def spin_words(sentence):\n",
    "    if \" \" not in sentence :\n",
    "        sen_list = list(sentence)\n",
    "        if len(sen_list) > 4 :\n",
    "            sen_list.reverse()\n",
    "            return \"\".join(x for x in sen_list)\n",
    "        else :\n",
    "            return sentence\n",
    "    else :\n",
    "        sen_list = sentence.split()\n",
    "        for i, x in enumerate(sen_list):\n",
    "            if len(x) > 4:\n",
    "                sen_list[i] = x[::-1]   \n",
    "            else :\n",
    "                x\n",
    "        res = \" \".join(sen_list)\n",
    "        return res"
   ]
  }
 ],
 "metadata": {
  "kernelspec": {
   "display_name": "yoonsung",
   "language": "python",
   "name": "python3"
  },
  "language_info": {
   "codemirror_mode": {
    "name": "ipython",
    "version": 3
   },
   "file_extension": ".py",
   "mimetype": "text/x-python",
   "name": "python",
   "nbconvert_exporter": "python",
   "pygments_lexer": "ipython3",
   "version": "3.8.19"
  }
 },
 "nbformat": 4,
 "nbformat_minor": 2
}

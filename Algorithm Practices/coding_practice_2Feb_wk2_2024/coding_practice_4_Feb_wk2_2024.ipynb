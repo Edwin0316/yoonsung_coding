{
 "cells": [
  {
   "cell_type": "markdown",
   "metadata": {},
   "source": [
    "Codewars\n",
    "\n",
    "7 kyu - Regex validate PIN code\n",
    "\n",
    "ATM machines allow 4 or 6 digit PIN codes and PIN codes cannot contain anything but exactly 4 digits or exactly 6 digits.\n",
    "\n",
    "If the function is passed a valid PIN string, return true, else return false.\n",
    "\n",
    "Examples (Input --> Output)\n",
    "\"1234\"   -->  true\n",
    "\"12345\"  -->  false\n",
    "\"a234\"   -->  false"
   ]
  },
  {
   "cell_type": "code",
   "execution_count": 1,
   "metadata": {},
   "outputs": [],
   "source": [
    "def validate_pin(pin):\n",
    "    try:\n",
    "        num = [int(x) for x in pin]\n",
    "        return len(num) in (4, 6)\n",
    "    except:\n",
    "        return False"
   ]
  },
  {
   "cell_type": "code",
   "execution_count": null,
   "metadata": {},
   "outputs": [],
   "source": [
    "def validate_pin(pin): \n",
    "    try :\n",
    "        num = [int(x) for x in list(pin)]\n",
    "        if len(num) == 4 :\n",
    "            return True\n",
    "        elif len(num) == 6 :\n",
    "            return True\n",
    "        else : \n",
    "            return False\n",
    "    except :\n",
    "        return False"
   ]
  }
 ],
 "metadata": {
  "kernelspec": {
   "display_name": "yoonsung",
   "language": "python",
   "name": "python3"
  },
  "language_info": {
   "codemirror_mode": {
    "name": "ipython",
    "version": 3
   },
   "file_extension": ".py",
   "mimetype": "text/x-python",
   "name": "python",
   "nbconvert_exporter": "python",
   "pygments_lexer": "ipython3",
   "version": "3.8.19"
  }
 },
 "nbformat": 4,
 "nbformat_minor": 2
}

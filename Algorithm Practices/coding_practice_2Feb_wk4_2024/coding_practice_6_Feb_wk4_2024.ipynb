{
 "cells": [
  {
   "cell_type": "markdown",
   "metadata": {},
   "source": [
    "Codewars\n",
    "\n",
    "6 kyu - Statistics for an Athletic Association\n",
    "\n",
    "You are the \"computer expert\" of a local Athletic Association (C.A.A.). Many teams of runners come to compete. Each time you get a string of all race results of every team who has run. For example here is a string showing the individual results of a team of 5 runners:\n",
    "\n",
    "\"01|15|59, 1|47|6, 01|17|20, 1|32|34, 2|3|17\"\n",
    "\n",
    "Each part of the string is of the form: h|m|s where h, m, s (h for hour, m for minutes, s for seconds) are positive or null integer (represented as strings) with one or two digits. Substrings in the input string are separated by ,  or ,.\n",
    "\n",
    "To compare the results of the teams you are asked for giving three statistics; range, average and median.\n",
    "\n",
    "Range : difference between the lowest and highest values. In {4, 6, 9, 3, 7} the lowest value is 3, and the highest is 9, so the range is 9 − 3 = 6.\n",
    "\n",
    "Mean or Average : To calculate mean, add together all of the numbers and then divide the sum by the total count of numbers.\n",
    "\n",
    "Median : In statistics, the median is the number separating the higher half of a data sample from the lower half. The median of a finite list of numbers can be found by arranging all the observations from lowest value to highest value and picking the middle one (e.g., the median of {3, 3, 5, 9, 11} is 5) when there is an odd number of observations. If there is an even number of observations, then there is no single middle value; the median is then defined to be the mean of the two middle values (the median of {3, 5, 6, 9} is (5 + 6) / 2 = 5.5).\n",
    "\n",
    "Your task is to return a string giving these 3 values. For the example given above, the string result will be\n",
    "\n",
    "\"Range: 00|47|18 Average: 01|35|15 Median: 01|32|34\"\n",
    "\n",
    "of the form: \"Range: hh|mm|ss Average: hh|mm|ss Median: hh|mm|ss\"`\n",
    "\n",
    "where hh, mm, ss are integers (represented by strings) with each 2 digits.\n",
    "\n",
    "Remarks:\n",
    "if a result in seconds is ab.xy... it will be given truncated as ab.\n",
    "if the given string is \"\" you will return \"\""
   ]
  },
  {
   "cell_type": "code",
   "execution_count": 1,
   "metadata": {},
   "outputs": [],
   "source": [
    "from datetime import datetime\n",
    "import numpy as np\n",
    "\n",
    "def stat(strg):\n",
    "    new_list = strg.split(\", \")\n",
    "    time_list = []\n",
    "    \n",
    "    if strg == '' :\n",
    "        return ''\n",
    "    \n",
    "    for x in new_list:\n",
    "        time_object = datetime.strptime(x, \"%H|%M|%S\")\n",
    "        time_list.append(time_object)\n",
    "    \n",
    "    total_seconds = [(item.hour*3600 + item.minute*60 + item.second) for item in time_list]\n",
    "    \n",
    "    mean_seconds = sum(total_seconds) / len(total_seconds)\n",
    "    median_seconds = np.median(total_seconds)\n",
    "    range_seconds = max(total_seconds) - min(total_seconds)\n",
    "\n",
    "    # Convert to hours, minutes, seconds\n",
    "    mean_hms = (int(mean_seconds // 3600), int((mean_seconds % 3600) // 60), int(mean_seconds % 60))\n",
    "    median_hms = (int(median_seconds // 3600), int((median_seconds % 3600) // 60), int(median_seconds % 60))\n",
    "    range_hms = (int(range_seconds // 3600), int((range_seconds % 3600) // 60), int(range_seconds % 60))\n",
    "\n",
    "    # Format the result with leading zeros if necessary\n",
    "    range_str = \"|\".join(\"{:02d}\".format(part) for part in range_hms[:3])\n",
    "    mean_str = \"|\".join(\"{:02d}\".format(part) for part in mean_hms[:3])\n",
    "    median_str = \"|\".join(\"{:02d}\".format(part) for part in median_hms[:3])\n",
    "\n",
    "    return \"Range: {} Average: {} Median: {}\".format(range_str, mean_str, median_str)"
   ]
  }
 ],
 "metadata": {
  "kernelspec": {
   "display_name": "yoonsung",
   "language": "python",
   "name": "python3"
  },
  "language_info": {
   "codemirror_mode": {
    "name": "ipython",
    "version": 3
   },
   "file_extension": ".py",
   "mimetype": "text/x-python",
   "name": "python",
   "nbconvert_exporter": "python",
   "pygments_lexer": "ipython3",
   "version": "3.8.19"
  }
 },
 "nbformat": 4,
 "nbformat_minor": 2
}

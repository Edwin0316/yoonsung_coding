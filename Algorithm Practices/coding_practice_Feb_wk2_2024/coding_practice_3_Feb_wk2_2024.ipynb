{
 "cells": [
  {
   "cell_type": "markdown",
   "metadata": {},
   "source": [
    "Codewars\n",
    "\n",
    "7 kyu - List Filtering\n",
    "\n",
    "In this kata you will create a function that takes a list of non-negative integers and strings and returns a new list with the strings filtered out.\n",
    "\n",
    "Example\n",
    "\n",
    "filter_list([1,2,'a','b']) == [1,2]\n",
    "filter_list([1,'a','b',0,15]) == [1,0,15]\n",
    "filter_list([1,2,'aasf','1','123',123]) == [1,2,123]"
   ]
  },
  {
   "cell_type": "code",
   "execution_count": 1,
   "metadata": {},
   "outputs": [],
   "source": [
    "def filter_list(l):\n",
    "    f_list = [x for x in l if type(x) == int]\n",
    "    return f_list"
   ]
  },
  {
   "cell_type": "code",
   "execution_count": null,
   "metadata": {},
   "outputs": [],
   "source": [
    "def filter_list(l):\n",
    "    filtered_list = [x for x in l if type(x) != str]\n",
    "    return filtered_list"
   ]
  }
 ],
 "metadata": {
  "kernelspec": {
   "display_name": "yoonsung",
   "language": "python",
   "name": "python3"
  },
  "language_info": {
   "codemirror_mode": {
    "name": "ipython",
    "version": 3
   },
   "file_extension": ".py",
   "mimetype": "text/x-python",
   "name": "python",
   "nbconvert_exporter": "python",
   "pygments_lexer": "ipython3",
   "version": "3.8.19"
  }
 },
 "nbformat": 4,
 "nbformat_minor": 2
}

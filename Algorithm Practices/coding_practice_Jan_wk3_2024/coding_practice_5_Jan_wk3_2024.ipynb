{
 "cells": [
  {
   "cell_type": "markdown",
   "metadata": {},
   "source": [
    "Codewars\n",
    "\n",
    "8 kyu - Reversed Strings\n",
    "\n",
    "Complete the solution so that it reverses the string passed into it.\n",
    "\n",
    "'world'  =>  'dlrow'\n",
    "'word'   =>  'drow'"
   ]
  },
  {
   "cell_type": "code",
   "execution_count": 1,
   "metadata": {},
   "outputs": [],
   "source": [
    "def solution(string):\n",
    "    reverse = \"\"\n",
    "    for i in string :\n",
    "        reverse = i + reverse\n",
    "    return reverse"
   ]
  }
 ],
 "metadata": {
  "kernelspec": {
   "display_name": "yoonsung",
   "language": "python",
   "name": "python3"
  },
  "language_info": {
   "codemirror_mode": {
    "name": "ipython",
    "version": 3
   },
   "file_extension": ".py",
   "mimetype": "text/x-python",
   "name": "python",
   "nbconvert_exporter": "python",
   "pygments_lexer": "ipython3",
   "version": "3.8.19"
  }
 },
 "nbformat": 4,
 "nbformat_minor": 2
}
